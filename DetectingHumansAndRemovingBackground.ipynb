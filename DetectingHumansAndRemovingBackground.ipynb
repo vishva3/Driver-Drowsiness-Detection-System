{
 "cells": [
  {
   "cell_type": "code",
   "execution_count": 2,
   "metadata": {},
   "outputs": [],
   "source": [
    "import cv2\n",
    "import cvzone\n",
    "from cvzone.SelfiSegmentationModule import SelfiSegmentation\n",
    "import os\n",
    "import dlib\n",
    "import numpy as np"
   ]
  },
  {
   "cell_type": "code",
   "execution_count": 3,
   "metadata": {},
   "outputs": [],
   "source": [
    "cap = cv2.VideoCapture(0)\n",
    "cap.set(3, 640)\n",
    "cap.set(4, 480)\n",
    "cap.set(cv2.CAP_PROP_FPS, 60)\n",
    "\n",
    "segmentor = SelfiSegmentation()\n",
    "detector = dlib.get_frontal_face_detector()\n",
    "predictor = dlib.shape_predictor(\"C:/Users/91797/Downloads/shape_predictor_68_face_landmarks.dat\")\n",
    "\n",
    "fpsReader = cvzone.FPS()\n",
    "\n",
    "while True:\n",
    "    success, img = cap.read()\n",
    "    imgOut = segmentor.removeBG(img, (0,0,0), threshold=0.99)\n",
    "    #_, frame = cap.read()\n",
    "    gray = cv2.cvtColor(imgOut, cv2.COLOR_BGR2GRAY)\n",
    "    faces = detector(gray)\n",
    "\n",
    "    b, g, r = cv2.split(img)\n",
    "    wb = b == 255\n",
    "    wg = g == 255\n",
    "    wr = r == 255\n",
    "\n",
    "    for face in faces:\n",
    "        x1 = face.left()\n",
    "        y1 = face.top()\n",
    "        x2 = face.right()\n",
    "        y2 = face.bottom()\n",
    "        landmarks = predictor(gray, face)\n",
    "        for n in range(0, 68):\n",
    "            x = landmarks.part(n).x\n",
    "            y = landmarks.part(n).y\n",
    "            cv2.circle(imgOut, (x, y), 4, (0, 0, 255), -1)\n",
    "    hsv = cv2.cvtColor(img, cv2.COLOR_BGR2HSV)\n",
    "    lower_range = np.array([150,100,100])\n",
    "    upper_range = np.array([359,255,255])\n",
    "    mask = cv2.inRange(hsv, lower_range, upper_range)\n",
    "\n",
    "    white_pixels_if_true = np.bitwise_and(wb, np.bitwise_and(wg, wr))\n",
    "    img_size = r.size\n",
    "    white_pixels_count = np.sum(white_pixels_if_true)\n",
    "    white_area_ratio = white_pixels_count / img_size\n",
    "\n",
    "    imgStacked = cvzone.stackImages([img, imgOut, mask],3,1)\n",
    "    _, imgStacked = fpsReader.update(imgStacked, color = (0, 0, 255))\n",
    "    if (white_area_ratio >= 0.00001):\n",
    "        font = cv2.FONT_HERSHEY_SIMPLEX\n",
    "        cv2.putText(imgStacked, 'Drowsy Alert', (50,150), font, 1, (0,255,255),2,cv2.LINE_4)\n",
    "    cv2.imshow(\"Redness of Mouth\", imgStacked)\n",
    "\n",
    "    if cv2.waitKey(1) & 0xFF == ord('q'):\n",
    "        break\n",
    "\n",
    "cv2.release()\n",
    "cv2.destroyAllWindows"
   ]
  },
  {
   "cell_type": "code",
   "execution_count": null,
   "metadata": {},
   "outputs": [],
   "source": []
  }
 ],
 "metadata": {
  "kernelspec": {
   "display_name": "Python 3.10.5 64-bit (windows store)",
   "language": "python",
   "name": "python3"
  },
  "language_info": {
   "codemirror_mode": {
    "name": "ipython",
    "version": 3
   },
   "file_extension": ".py",
   "mimetype": "text/x-python",
   "name": "python",
   "nbconvert_exporter": "python",
   "pygments_lexer": "ipython3",
   "version": "3.10.11"
  },
  "orig_nbformat": 4,
  "vscode": {
   "interpreter": {
    "hash": "7206d9cf27c9f9965bb6fdf58ea61da73aba6f4d7790064b23988dbb93ff37c7"
   }
  }
 },
 "nbformat": 4,
 "nbformat_minor": 2
}
